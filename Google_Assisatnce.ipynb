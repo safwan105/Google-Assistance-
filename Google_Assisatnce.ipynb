{
  "cells": [
    {
      "cell_type": "markdown",
      "metadata": {
        "id": "view-in-github",
        "colab_type": "text"
      },
      "source": [
        "<a href=\"https://colab.research.google.com/github/safwan105/Google-Assistance-/blob/main/Google_Assisatnce.ipynb\" target=\"_parent\"><img src=\"https://colab.research.google.com/assets/colab-badge.svg\" alt=\"Open In Colab\"/></a>"
      ]
    },
    {
      "cell_type": "markdown",
      "metadata": {
        "id": "h1mEwpmaKXg_"
      },
      "source": [
        "Steps\n",
        "1-give input(questions)\n",
        "2-based on the question decide what todo\n",
        "  device opeations(calling somone,..)\n",
        "  formal things(name)\n",
        "  detaild information\n",
        "3-give proper answer\n",
        "4-if question is based on the internet feth the datailes using google     gemini model\n",
        "5-convert to the speech format\n"
      ]
    },
    {
      "cell_type": "code",
      "execution_count": null,
      "metadata": {
        "colab": {
          "background_save": true
        },
        "id": "FURg3RXid52v"
      },
      "outputs": [],
      "source": [
        "!pip install -q -U google-generativeai"
      ]
    },
    {
      "cell_type": "code",
      "execution_count": null,
      "metadata": {
        "id": "MG2Ki_Ph2Pv2"
      },
      "outputs": [],
      "source": [
        "!pip install gTTS"
      ]
    },
    {
      "cell_type": "code",
      "execution_count": null,
      "metadata": {
        "id": "lgSteAmweazS"
      },
      "outputs": [],
      "source": [
        "import pathlib\n",
        "import textwrap\n",
        "\n",
        "import google.generativeai as genai\n",
        "\n",
        "from IPython.display import display\n",
        "from IPython.display import Markdown\n",
        "from gtts import gTTS\n",
        "from IPython.display import Audio, display\n",
        "\n",
        "def to_markdown(text):\n",
        "  text = text.replace('•', '  *')\n",
        "  return Markdown(textwrap.indent(text, '> ', predicate=lambda _: True))\n"
      ]
    },
    {
      "cell_type": "code",
      "execution_count": null,
      "metadata": {
        "id": "TWVOt9A0eIfG"
      },
      "outputs": [],
      "source": [
        "from google.colab import userdata\n",
        "GOOGLE_API_KEY = userdata.get(\"GOOGLE_API_KEY\")\n",
        "genai.configure(api_key=GOOGLE_API_KEY)\n",
        "model = genai.GenerativeModel('gemini-pro')"
      ]
    },
    {
      "cell_type": "code",
      "execution_count": null,
      "metadata": {
        "id": "ENoKPIfOKRv1"
      },
      "outputs": [],
      "source": [
        "def ask_questions(name):\n",
        "  question = 'Hey '+ name + ' What u want ?'\n",
        "  question=input(question)\n",
        "  return question"
      ]
    },
    {
      "cell_type": "code",
      "execution_count": null,
      "metadata": {
        "id": "9MCVAq6DMu03"
      },
      "outputs": [],
      "source": [
        "def classify_ques(question):\n",
        "  device_ques=['alaram','call','message']\n",
        "  personal_ques=['who created you','what is your name']\n",
        "\n",
        "  go_ahead_with_web = False\n",
        "  device_qs = False\n",
        "  personal_qs = False\n",
        "  for i in device_ques:\n",
        "    if i in question:\n",
        "      device_qs = True\n",
        "\n",
        "  if device_qs:\n",
        "    print(\"This questions is related to Device.which is not supported in our Assisatnce\")\n",
        "\n",
        "  for i  in personal_ques:\n",
        "    if i in question:\n",
        "      personal_qs= True\n",
        "\n",
        "  if personal_qs:\n",
        "    print(\"I am created by you\")\n",
        "\n",
        "  if device_qs:   # if the question is related to deevice then we  ---->>> should not  ask to AI\n",
        "    go_ahead_with_web = False   #  set\n",
        "  elif personal_qs:\n",
        "    go_ahead_with_web = False\n",
        "  else:\n",
        "    go_ahead_with_web = True\n",
        "  return go_ahead_with_web"
      ]
    },
    {
      "cell_type": "code",
      "execution_count": null,
      "metadata": {
        "id": "s3IE67oLtS2-"
      },
      "outputs": [],
      "source": [
        "def ask_gemini(q):\n",
        "  modified_prompt = 'Hey give me the answer to this question '+ q + 'in maximum of 50 words'\n",
        "  response = model.generate_content(modified_prompt)\n",
        "  to_markdown(response.text)\n",
        "  return response.text"
      ]
    },
    {
      "cell_type": "code",
      "execution_count": null,
      "metadata": {
        "id": "y64y4JMBfCwZ"
      },
      "outputs": [],
      "source": [
        "def Type_ur_questions():\n",
        "  repeat_qs ='y'\n",
        "\n",
        "  name=input(\"whats your name ?\")\n",
        "\n",
        "  while repeat_qs =='y':\n",
        "    q = ask_questions(name)\n",
        "    goahead = classify_ques(q)\n",
        "    answer =''\n",
        "    if goahead == True:\n",
        "       answer = ask_gemini(q)\n",
        "       print(answer)\n",
        "       Audio_record(answer)\n",
        "    print(\"Do you have any questions ?y/n\")\n",
        "    repeat_qs=input()"
      ]
    },
    {
      "cell_type": "code",
      "execution_count": null,
      "metadata": {
        "id": "nc2mCclM2d_e"
      },
      "outputs": [],
      "source": [
        "def Audio_record(q):\n",
        "  tts = gTTS(q)\n",
        "  tts.save('q.mp3')\n",
        "  display(Audio(\"q.mp3\", autoplay=True))"
      ]
    },
    {
      "cell_type": "code",
      "execution_count": null,
      "metadata": {
        "id": "QTkMqAFFuklZ"
      },
      "outputs": [],
      "source": [
        "Type_ur_questions()"
      ]
    }
  ],
  "metadata": {
    "colab": {
      "provenance": [],
      "authorship_tag": "ABX9TyMRH6hS+jIVw5RJmfqxfQRR",
      "include_colab_link": true
    },
    "kernelspec": {
      "display_name": "Python 3",
      "name": "python3"
    },
    "language_info": {
      "name": "python"
    }
  },
  "nbformat": 4,
  "nbformat_minor": 0
}